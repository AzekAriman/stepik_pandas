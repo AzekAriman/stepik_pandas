{
 "cells": [
  {
   "cell_type": "code",
   "execution_count": 2,
   "outputs": [
    {
     "name": "stdout",
     "output_type": "stream",
     "text": [
      "Requirement already satisfied: numpy in d:\\programming_project\\red_head_data_science\\venv\\lib\\site-packages (1.26.2)"
     ]
    },
    {
     "name": "stderr",
     "output_type": "stream",
     "text": [
      "\n",
      "[notice] A new release of pip is available: 23.2.1 -> 23.3.1\n",
      "[notice] To update, run: python.exe -m pip install --upgrade pip\n"
     ]
    },
    {
     "name": "stdout",
     "output_type": "stream",
     "text": [
      "Requirement already satisfied: pandas in d:\\programming_project\\red_head_data_science\\venv\\lib\\site-packages (2.1.3)\n",
      "Requirement already satisfied: numpy<2,>=1.23.2 in d:\\programming_project\\red_head_data_science\\venv\\lib\\site-packages (from pandas) (1.26.2)\n",
      "Requirement already satisfied: python-dateutil>=2.8.2 in d:\\programming_project\\red_head_data_science\\venv\\lib\\site-packages (from pandas) (2.8.2)\n",
      "Requirement already satisfied: pytz>=2020.1 in d:\\programming_project\\red_head_data_science\\venv\\lib\\site-packages (from pandas) (2023.3.post1)\n",
      "Requirement already satisfied: tzdata>=2022.1 in d:\\programming_project\\red_head_data_science\\venv\\lib\\site-packages (from pandas) (2023.3)\n",
      "Requirement already satisfied: six>=1.5 in d:\\programming_project\\red_head_data_science\\venv\\lib\\site-packages (from python-dateutil>=2.8.2->pandas) (1.16.0)\n"
     ]
    },
    {
     "name": "stderr",
     "output_type": "stream",
     "text": [
      "\n",
      "[notice] A new release of pip is available: 23.2.1 -> 23.3.1\n",
      "[notice] To update, run: python.exe -m pip install --upgrade pip\n"
     ]
    },
    {
     "name": "stdout",
     "output_type": "stream",
     "text": [
      "Requirement already satisfied: scipy in d:\\programming_project\\red_head_data_science\\venv\\lib\\site-packages (1.11.4)\n",
      "Requirement already satisfied: numpy<1.28.0,>=1.21.6 in d:\\programming_project\\red_head_data_science\\venv\\lib\\site-packages (from scipy) (1.26.2)\n"
     ]
    },
    {
     "name": "stderr",
     "output_type": "stream",
     "text": [
      "\n",
      "[notice] A new release of pip is available: 23.2.1 -> 23.3.1\n",
      "[notice] To update, run: python.exe -m pip install --upgrade pip\n"
     ]
    }
   ],
   "source": [
    "!pip install numpy\n",
    "!pip install pandas\n",
    "!pip install scipy"
   ],
   "metadata": {
    "collapsed": false,
    "ExecuteTime": {
     "end_time": "2023-12-01T16:42:58.408532900Z",
     "start_time": "2023-12-01T16:42:48.468756500Z"
    }
   },
   "id": "aa8444341bf11a84"
  },
  {
   "cell_type": "code",
   "execution_count": 3,
   "id": "initial_id",
   "metadata": {
    "ExecuteTime": {
     "end_time": "2023-12-01T16:43:09.264426500Z",
     "start_time": "2023-12-01T16:42:58.410530700Z"
    }
   },
   "outputs": [],
   "source": [
    "import numpy as np\n",
    "import pandas as pd\n",
    "from scipy.stats import mode"
   ]
  },
  {
   "cell_type": "markdown",
   "source": [
    "1) Загрузить, посмотреть, определить количество строк и объединить 3 датасета: marketing_campaign.csv, users.csv и subscribers.csv."
   ],
   "metadata": {
    "collapsed": false
   },
   "id": "841ef0ab7bdbc05c"
  },
  {
   "cell_type": "code",
   "execution_count": 4,
   "id": "40a35172bb8a5e14",
   "metadata": {
    "collapsed": false,
    "ExecuteTime": {
     "end_time": "2023-12-01T16:43:09.296269800Z",
     "start_time": "2023-12-01T16:43:09.263425Z"
    }
   },
   "outputs": [
    {
     "name": "stdout",
     "output_type": "stream",
     "text": [
      "Файлы из архива Материалы для домашнего задания v2.zip были успешно распакованы в Unpacked_materials\n"
     ]
    }
   ],
   "source": [
    "import zipfile\n",
    "import os\n",
    "\n",
    "# Укажите путь к вашему ZIP-файлу\n",
    "zip_path = 'Материалы для домашнего задания v2.zip'\n",
    "\n",
    "# Укажите папку, куда вы хотите распаковать архив\n",
    "extract_folder = 'Unpacked_materials'\n",
    "\n",
    "# Проверяем, существует ли директория, и если нет, создаем ее\n",
    "if not os.path.exists(extract_folder):\n",
    "    os.makedirs(extract_folder)\n",
    "\n",
    "# Распаковываем архив\n",
    "with zipfile.ZipFile(zip_path, 'r') as zip_ref:\n",
    "    zip_ref.extractall(extract_folder)\n",
    "\n",
    "print(f'Файлы из архива {zip_path} были успешно распакованы в {extract_folder}')\n"
   ]
  },
  {
   "cell_type": "code",
   "execution_count": 5,
   "outputs": [
    {
     "data": {
      "text/plain": "  user_id subscribing_channel date_subscribed date_canceled is_retained\n0   a1000           House Ads          1/1/18           NaN        True\n1   a1001           House Ads          1/1/18           NaN        True\n2   a1002           House Ads          1/1/18           NaN        True\n3   a1003           House Ads          1/1/18           NaN        True\n4   a1004           House Ads          1/1/18           NaN        True",
      "text/html": "<div>\n<style scoped>\n    .dataframe tbody tr th:only-of-type {\n        vertical-align: middle;\n    }\n\n    .dataframe tbody tr th {\n        vertical-align: top;\n    }\n\n    .dataframe thead th {\n        text-align: right;\n    }\n</style>\n<table border=\"1\" class=\"dataframe\">\n  <thead>\n    <tr style=\"text-align: right;\">\n      <th></th>\n      <th>user_id</th>\n      <th>subscribing_channel</th>\n      <th>date_subscribed</th>\n      <th>date_canceled</th>\n      <th>is_retained</th>\n    </tr>\n  </thead>\n  <tbody>\n    <tr>\n      <th>0</th>\n      <td>a1000</td>\n      <td>House Ads</td>\n      <td>1/1/18</td>\n      <td>NaN</td>\n      <td>True</td>\n    </tr>\n    <tr>\n      <th>1</th>\n      <td>a1001</td>\n      <td>House Ads</td>\n      <td>1/1/18</td>\n      <td>NaN</td>\n      <td>True</td>\n    </tr>\n    <tr>\n      <th>2</th>\n      <td>a1002</td>\n      <td>House Ads</td>\n      <td>1/1/18</td>\n      <td>NaN</td>\n      <td>True</td>\n    </tr>\n    <tr>\n      <th>3</th>\n      <td>a1003</td>\n      <td>House Ads</td>\n      <td>1/1/18</td>\n      <td>NaN</td>\n      <td>True</td>\n    </tr>\n    <tr>\n      <th>4</th>\n      <td>a1004</td>\n      <td>House Ads</td>\n      <td>1/1/18</td>\n      <td>NaN</td>\n      <td>True</td>\n    </tr>\n  </tbody>\n</table>\n</div>"
     },
     "execution_count": 5,
     "metadata": {},
     "output_type": "execute_result"
    }
   ],
   "source": [
    "df_subscribers = pd.read_csv('./Unpacked_materials/subscribers.csv')\n",
    "df_subscribers.head()"
   ],
   "metadata": {
    "collapsed": false,
    "ExecuteTime": {
     "end_time": "2023-12-01T16:43:09.357269600Z",
     "start_time": "2023-12-01T16:43:09.290275100Z"
    }
   },
   "id": "3cde06ccf069f5ab"
  },
  {
   "cell_type": "code",
   "execution_count": 6,
   "outputs": [],
   "source": [
    "df_marketing_campaign = pd.read_csv('./Unpacked_materials/marketing_campaign.csv')\n",
    "df_users = pd.read_csv('./Unpacked_materials/users.csv')\n"
   ],
   "metadata": {
    "collapsed": false,
    "ExecuteTime": {
     "end_time": "2023-12-01T16:43:09.453292800Z",
     "start_time": "2023-12-01T16:43:09.345270800Z"
    }
   },
   "id": "6c10d9806bbcfb7a"
  },
  {
   "cell_type": "code",
   "execution_count": 7,
   "outputs": [
    {
     "data": {
      "text/plain": "  user_id    age_group language_preferred\n0   a1000   0-18 years            English\n1   a1001  19-24 years            English\n2   a1002  24-30 years            English\n3   a1003  30-36 years            English\n4   a1004  36-45 years            English",
      "text/html": "<div>\n<style scoped>\n    .dataframe tbody tr th:only-of-type {\n        vertical-align: middle;\n    }\n\n    .dataframe tbody tr th {\n        vertical-align: top;\n    }\n\n    .dataframe thead th {\n        text-align: right;\n    }\n</style>\n<table border=\"1\" class=\"dataframe\">\n  <thead>\n    <tr style=\"text-align: right;\">\n      <th></th>\n      <th>user_id</th>\n      <th>age_group</th>\n      <th>language_preferred</th>\n    </tr>\n  </thead>\n  <tbody>\n    <tr>\n      <th>0</th>\n      <td>a1000</td>\n      <td>0-18 years</td>\n      <td>English</td>\n    </tr>\n    <tr>\n      <th>1</th>\n      <td>a1001</td>\n      <td>19-24 years</td>\n      <td>English</td>\n    </tr>\n    <tr>\n      <th>2</th>\n      <td>a1002</td>\n      <td>24-30 years</td>\n      <td>English</td>\n    </tr>\n    <tr>\n      <th>3</th>\n      <td>a1003</td>\n      <td>30-36 years</td>\n      <td>English</td>\n    </tr>\n    <tr>\n      <th>4</th>\n      <td>a1004</td>\n      <td>36-45 years</td>\n      <td>English</td>\n    </tr>\n  </tbody>\n</table>\n</div>"
     },
     "execution_count": 7,
     "metadata": {},
     "output_type": "execute_result"
    }
   ],
   "source": [
    "df_users.head()"
   ],
   "metadata": {
    "collapsed": false,
    "ExecuteTime": {
     "end_time": "2023-12-01T16:43:09.490431300Z",
     "start_time": "2023-12-01T16:43:09.396272400Z"
    }
   },
   "id": "6871b91a89937b6a"
  },
  {
   "cell_type": "code",
   "execution_count": 8,
   "outputs": [
    {
     "data": {
      "text/plain": "  user_id date_served marketing_channel          variant language_displayed  \\\n0   a1000      1/1/18         House Ads  personalization            English   \n1   a1001      1/1/18         House Ads  personalization            English   \n2   a1002      1/1/18         House Ads  personalization            English   \n3   a1003      1/1/18         House Ads  personalization            English   \n4   a1004      1/1/18         House Ads  personalization            English   \n\n  converted  \n0      True  \n1      True  \n2      True  \n3      True  \n4      True  ",
      "text/html": "<div>\n<style scoped>\n    .dataframe tbody tr th:only-of-type {\n        vertical-align: middle;\n    }\n\n    .dataframe tbody tr th {\n        vertical-align: top;\n    }\n\n    .dataframe thead th {\n        text-align: right;\n    }\n</style>\n<table border=\"1\" class=\"dataframe\">\n  <thead>\n    <tr style=\"text-align: right;\">\n      <th></th>\n      <th>user_id</th>\n      <th>date_served</th>\n      <th>marketing_channel</th>\n      <th>variant</th>\n      <th>language_displayed</th>\n      <th>converted</th>\n    </tr>\n  </thead>\n  <tbody>\n    <tr>\n      <th>0</th>\n      <td>a1000</td>\n      <td>1/1/18</td>\n      <td>House Ads</td>\n      <td>personalization</td>\n      <td>English</td>\n      <td>True</td>\n    </tr>\n    <tr>\n      <th>1</th>\n      <td>a1001</td>\n      <td>1/1/18</td>\n      <td>House Ads</td>\n      <td>personalization</td>\n      <td>English</td>\n      <td>True</td>\n    </tr>\n    <tr>\n      <th>2</th>\n      <td>a1002</td>\n      <td>1/1/18</td>\n      <td>House Ads</td>\n      <td>personalization</td>\n      <td>English</td>\n      <td>True</td>\n    </tr>\n    <tr>\n      <th>3</th>\n      <td>a1003</td>\n      <td>1/1/18</td>\n      <td>House Ads</td>\n      <td>personalization</td>\n      <td>English</td>\n      <td>True</td>\n    </tr>\n    <tr>\n      <th>4</th>\n      <td>a1004</td>\n      <td>1/1/18</td>\n      <td>House Ads</td>\n      <td>personalization</td>\n      <td>English</td>\n      <td>True</td>\n    </tr>\n  </tbody>\n</table>\n</div>"
     },
     "execution_count": 8,
     "metadata": {},
     "output_type": "execute_result"
    }
   ],
   "source": [
    "df_marketing_campaign.head()"
   ],
   "metadata": {
    "collapsed": false,
    "ExecuteTime": {
     "end_time": "2023-12-01T16:43:09.525333Z",
     "start_time": "2023-12-01T16:43:09.409771400Z"
    }
   },
   "id": "a0096094671a124d"
  },
  {
   "cell_type": "markdown",
   "source": [
    "Объединение таблиц"
   ],
   "metadata": {
    "collapsed": false
   },
   "id": "1b137f38561773ce"
  },
  {
   "cell_type": "code",
   "execution_count": 9,
   "outputs": [],
   "source": [
    "df_1 = df_users.set_index('user_id')\n",
    "df_2 = df_subscribers.set_index('user_id')\n",
    "df_3 = df_marketing_campaign.set_index('user_id')"
   ],
   "metadata": {
    "collapsed": false,
    "ExecuteTime": {
     "end_time": "2023-12-01T16:43:09.566387400Z",
     "start_time": "2023-12-01T16:43:09.427775Z"
    }
   },
   "id": "d7ea6d66af510610"
  },
  {
   "cell_type": "code",
   "execution_count": 10,
   "outputs": [],
   "source": [
    "# Объединяем df_1 и df_2\n",
    "df_merged = df_1.join(df_2, how='outer')\n",
    "\n",
    "# Теперь объединяем результат с df_3\n",
    "df_final = df_merged.join(df_3, how='outer')"
   ],
   "metadata": {
    "collapsed": false,
    "ExecuteTime": {
     "end_time": "2023-12-01T16:43:09.567386800Z",
     "start_time": "2023-12-01T16:43:09.439297100Z"
    }
   },
   "id": "8a5fe48144c5b9e3"
  },
  {
   "cell_type": "code",
   "execution_count": 11,
   "outputs": [
    {
     "data": {
      "text/plain": "           age_group language_preferred subscribing_channel date_subscribed  \\\nuser_id                                                                       \na1000     0-18 years            English           House Ads          1/1/18   \na1001    19-24 years            English           House Ads          1/1/18   \na1002    24-30 years            English           House Ads          1/1/18   \na1003    30-36 years            English           House Ads          1/1/18   \na1004    36-45 years            English           House Ads          1/1/18   \n\n        date_canceled is_retained date_served marketing_channel  \\\nuser_id                                                           \na1000             NaN        True      1/1/18         House Ads   \na1001             NaN        True      1/1/18         House Ads   \na1002             NaN        True      1/1/18         House Ads   \na1003             NaN        True      1/1/18         House Ads   \na1004             NaN        True      1/1/18         House Ads   \n\n                 variant language_displayed converted  \nuser_id                                                \na1000    personalization            English      True  \na1001    personalization            English      True  \na1002    personalization            English      True  \na1003    personalization            English      True  \na1004    personalization            English      True  ",
      "text/html": "<div>\n<style scoped>\n    .dataframe tbody tr th:only-of-type {\n        vertical-align: middle;\n    }\n\n    .dataframe tbody tr th {\n        vertical-align: top;\n    }\n\n    .dataframe thead th {\n        text-align: right;\n    }\n</style>\n<table border=\"1\" class=\"dataframe\">\n  <thead>\n    <tr style=\"text-align: right;\">\n      <th></th>\n      <th>age_group</th>\n      <th>language_preferred</th>\n      <th>subscribing_channel</th>\n      <th>date_subscribed</th>\n      <th>date_canceled</th>\n      <th>is_retained</th>\n      <th>date_served</th>\n      <th>marketing_channel</th>\n      <th>variant</th>\n      <th>language_displayed</th>\n      <th>converted</th>\n    </tr>\n    <tr>\n      <th>user_id</th>\n      <th></th>\n      <th></th>\n      <th></th>\n      <th></th>\n      <th></th>\n      <th></th>\n      <th></th>\n      <th></th>\n      <th></th>\n      <th></th>\n      <th></th>\n    </tr>\n  </thead>\n  <tbody>\n    <tr>\n      <th>a1000</th>\n      <td>0-18 years</td>\n      <td>English</td>\n      <td>House Ads</td>\n      <td>1/1/18</td>\n      <td>NaN</td>\n      <td>True</td>\n      <td>1/1/18</td>\n      <td>House Ads</td>\n      <td>personalization</td>\n      <td>English</td>\n      <td>True</td>\n    </tr>\n    <tr>\n      <th>a1001</th>\n      <td>19-24 years</td>\n      <td>English</td>\n      <td>House Ads</td>\n      <td>1/1/18</td>\n      <td>NaN</td>\n      <td>True</td>\n      <td>1/1/18</td>\n      <td>House Ads</td>\n      <td>personalization</td>\n      <td>English</td>\n      <td>True</td>\n    </tr>\n    <tr>\n      <th>a1002</th>\n      <td>24-30 years</td>\n      <td>English</td>\n      <td>House Ads</td>\n      <td>1/1/18</td>\n      <td>NaN</td>\n      <td>True</td>\n      <td>1/1/18</td>\n      <td>House Ads</td>\n      <td>personalization</td>\n      <td>English</td>\n      <td>True</td>\n    </tr>\n    <tr>\n      <th>a1003</th>\n      <td>30-36 years</td>\n      <td>English</td>\n      <td>House Ads</td>\n      <td>1/1/18</td>\n      <td>NaN</td>\n      <td>True</td>\n      <td>1/1/18</td>\n      <td>House Ads</td>\n      <td>personalization</td>\n      <td>English</td>\n      <td>True</td>\n    </tr>\n    <tr>\n      <th>a1004</th>\n      <td>36-45 years</td>\n      <td>English</td>\n      <td>House Ads</td>\n      <td>1/1/18</td>\n      <td>NaN</td>\n      <td>True</td>\n      <td>1/1/18</td>\n      <td>House Ads</td>\n      <td>personalization</td>\n      <td>English</td>\n      <td>True</td>\n    </tr>\n  </tbody>\n</table>\n</div>"
     },
     "execution_count": 11,
     "metadata": {},
     "output_type": "execute_result"
    }
   ],
   "source": [
    "df_final.head()"
   ],
   "metadata": {
    "collapsed": false,
    "ExecuteTime": {
     "end_time": "2023-12-01T16:43:09.570387500Z",
     "start_time": "2023-12-01T16:43:09.462382300Z"
    }
   },
   "id": "908957e28f452397"
  },
  {
   "cell_type": "markdown",
   "source": [
    "2) Определить типы и статистики колонок"
   ],
   "metadata": {
    "collapsed": false
   },
   "id": "e070e44fbac081c9"
  },
  {
   "cell_type": "code",
   "execution_count": 12,
   "outputs": [
    {
     "data": {
      "text/plain": "age_group              object\nlanguage_preferred     object\nsubscribing_channel    object\ndate_subscribed        object\ndate_canceled          object\nis_retained            object\ndate_served            object\nmarketing_channel      object\nvariant                object\nlanguage_displayed     object\nconverted              object\ndtype: object"
     },
     "execution_count": 12,
     "metadata": {},
     "output_type": "execute_result"
    }
   ],
   "source": [
    "df_final.dtypes"
   ],
   "metadata": {
    "collapsed": false,
    "ExecuteTime": {
     "end_time": "2023-12-01T16:43:09.644404700Z",
     "start_time": "2023-12-01T16:43:09.476913900Z"
    }
   },
   "id": "a08171e0d12c8825"
  },
  {
   "cell_type": "code",
   "execution_count": 13,
   "outputs": [
    {
     "data": {
      "text/plain": "          age_group language_preferred subscribing_channel date_subscribed  \\\ncount         10037              10037                1856            1856   \nunique            7                  4                   5              31   \ntop     19-24 years            English           Instagram         1/16/18   \nfreq           1682               9275                 600             163   \n\n       date_canceled is_retained date_served marketing_channel  variant  \\\ncount            577        1856       10021             10022    10037   \nunique           115           2          31                 5        2   \ntop           4/2/18        True     1/15/18         House Ads  control   \nfreq              15        1279         789              4733     5091   \n\n       language_displayed converted  \ncount               10037     10022  \nunique                  4         2  \ntop               English     False  \nfreq                 9793      8946  ",
      "text/html": "<div>\n<style scoped>\n    .dataframe tbody tr th:only-of-type {\n        vertical-align: middle;\n    }\n\n    .dataframe tbody tr th {\n        vertical-align: top;\n    }\n\n    .dataframe thead th {\n        text-align: right;\n    }\n</style>\n<table border=\"1\" class=\"dataframe\">\n  <thead>\n    <tr style=\"text-align: right;\">\n      <th></th>\n      <th>age_group</th>\n      <th>language_preferred</th>\n      <th>subscribing_channel</th>\n      <th>date_subscribed</th>\n      <th>date_canceled</th>\n      <th>is_retained</th>\n      <th>date_served</th>\n      <th>marketing_channel</th>\n      <th>variant</th>\n      <th>language_displayed</th>\n      <th>converted</th>\n    </tr>\n  </thead>\n  <tbody>\n    <tr>\n      <th>count</th>\n      <td>10037</td>\n      <td>10037</td>\n      <td>1856</td>\n      <td>1856</td>\n      <td>577</td>\n      <td>1856</td>\n      <td>10021</td>\n      <td>10022</td>\n      <td>10037</td>\n      <td>10037</td>\n      <td>10022</td>\n    </tr>\n    <tr>\n      <th>unique</th>\n      <td>7</td>\n      <td>4</td>\n      <td>5</td>\n      <td>31</td>\n      <td>115</td>\n      <td>2</td>\n      <td>31</td>\n      <td>5</td>\n      <td>2</td>\n      <td>4</td>\n      <td>2</td>\n    </tr>\n    <tr>\n      <th>top</th>\n      <td>19-24 years</td>\n      <td>English</td>\n      <td>Instagram</td>\n      <td>1/16/18</td>\n      <td>4/2/18</td>\n      <td>True</td>\n      <td>1/15/18</td>\n      <td>House Ads</td>\n      <td>control</td>\n      <td>English</td>\n      <td>False</td>\n    </tr>\n    <tr>\n      <th>freq</th>\n      <td>1682</td>\n      <td>9275</td>\n      <td>600</td>\n      <td>163</td>\n      <td>15</td>\n      <td>1279</td>\n      <td>789</td>\n      <td>4733</td>\n      <td>5091</td>\n      <td>9793</td>\n      <td>8946</td>\n    </tr>\n  </tbody>\n</table>\n</div>"
     },
     "execution_count": 13,
     "metadata": {},
     "output_type": "execute_result"
    }
   ],
   "source": [
    "df_final.describe()"
   ],
   "metadata": {
    "collapsed": false,
    "ExecuteTime": {
     "end_time": "2023-12-01T16:43:09.646406500Z",
     "start_time": "2023-12-01T16:43:09.486434600Z"
    }
   },
   "id": "435d3af33cb912b8"
  },
  {
   "cell_type": "code",
   "execution_count": 14,
   "outputs": [
    {
     "name": "stdout",
     "output_type": "stream",
     "text": [
      "          age_group language_preferred subscribing_channel date_subscribed  \\\n",
      "count         10037              10037                1856            1856   \n",
      "unique            7                  4                   5              31   \n",
      "top     19-24 years            English           Instagram         1/16/18   \n",
      "freq           1682               9275                 600             163   \n",
      "\n",
      "       date_canceled is_retained date_served marketing_channel  variant  \\\n",
      "count            577        1856       10021             10022    10037   \n",
      "unique           115           2          31                 5        2   \n",
      "top           4/2/18        True     1/15/18         House Ads  control   \n",
      "freq              15        1279         789              4733     5091   \n",
      "\n",
      "       language_displayed converted  \n",
      "count               10037     10022  \n",
      "unique                  4         2  \n",
      "top               English     False  \n",
      "freq                 9793      8946  \n"
     ]
    }
   ],
   "source": [
    "# Выводим описательную статистику для всех колонок\n",
    "print(df_final.describe(include='all'))"
   ],
   "metadata": {
    "collapsed": false,
    "ExecuteTime": {
     "end_time": "2023-12-01T16:43:09.712724900Z",
     "start_time": "2023-12-01T16:43:09.519336500Z"
    }
   },
   "id": "6133a773d203c18e"
  },
  {
   "cell_type": "code",
   "execution_count": 15,
   "outputs": [
    {
     "name": "stdout",
     "output_type": "stream",
     "text": [
      "<class 'pandas.core.frame.DataFrame'>\n",
      "Index: 10037 entries, a1000 to a11036\n",
      "Data columns (total 11 columns):\n",
      " #   Column               Non-Null Count  Dtype \n",
      "---  ------               --------------  ----- \n",
      " 0   age_group            10037 non-null  object\n",
      " 1   language_preferred   10037 non-null  object\n",
      " 2   subscribing_channel  1856 non-null   object\n",
      " 3   date_subscribed      1856 non-null   object\n",
      " 4   date_canceled        577 non-null    object\n",
      " 5   is_retained          1856 non-null   object\n",
      " 6   date_served          10021 non-null  object\n",
      " 7   marketing_channel    10022 non-null  object\n",
      " 8   variant              10037 non-null  object\n",
      " 9   language_displayed   10037 non-null  object\n",
      " 10  converted            10022 non-null  object\n",
      "dtypes: object(11)\n",
      "memory usage: 1.2+ MB\n",
      "None\n"
     ]
    }
   ],
   "source": [
    "# Выводим общую информацию о DataFrame\n",
    "print(df_final.info())"
   ],
   "metadata": {
    "collapsed": false,
    "ExecuteTime": {
     "end_time": "2023-12-01T16:43:09.713723700Z",
     "start_time": "2023-12-01T16:43:09.548862600Z"
    }
   },
   "id": "955c2ced30f3f83b"
  },
  {
   "cell_type": "markdown",
   "source": [
    "3) Определить эффективность маркетинговых каналов по привлечению платящих игроков\n"
   ],
   "metadata": {
    "collapsed": false
   },
   "id": "d9c1d0f114aef7d7"
  },
  {
   "cell_type": "code",
   "execution_count": 16,
   "outputs": [
    {
     "data": {
      "text/plain": "marketing_channel     Email  Facebook  House Ads  Instagram      Push\nconverted                                                            \nFalse              0.658407  0.872581   0.937038   0.858365  0.916415\nTrue               0.341593  0.127419   0.062962   0.141635  0.083585",
      "text/html": "<div>\n<style scoped>\n    .dataframe tbody tr th:only-of-type {\n        vertical-align: middle;\n    }\n\n    .dataframe tbody tr th {\n        vertical-align: top;\n    }\n\n    .dataframe thead th {\n        text-align: right;\n    }\n</style>\n<table border=\"1\" class=\"dataframe\">\n  <thead>\n    <tr style=\"text-align: right;\">\n      <th>marketing_channel</th>\n      <th>Email</th>\n      <th>Facebook</th>\n      <th>House Ads</th>\n      <th>Instagram</th>\n      <th>Push</th>\n    </tr>\n    <tr>\n      <th>converted</th>\n      <th></th>\n      <th></th>\n      <th></th>\n      <th></th>\n      <th></th>\n    </tr>\n  </thead>\n  <tbody>\n    <tr>\n      <th>False</th>\n      <td>0.658407</td>\n      <td>0.872581</td>\n      <td>0.937038</td>\n      <td>0.858365</td>\n      <td>0.916415</td>\n    </tr>\n    <tr>\n      <th>True</th>\n      <td>0.341593</td>\n      <td>0.127419</td>\n      <td>0.062962</td>\n      <td>0.141635</td>\n      <td>0.083585</td>\n    </tr>\n  </tbody>\n</table>\n</div>"
     },
     "execution_count": 16,
     "metadata": {},
     "output_type": "execute_result"
    }
   ],
   "source": [
    "pd.crosstab(\n",
    "            index=df_final['converted'],\n",
    "            columns=df_final['marketing_channel'],\n",
    "            normalize='columns')"
   ],
   "metadata": {
    "collapsed": false,
    "ExecuteTime": {
     "end_time": "2023-12-01T16:43:09.873722700Z",
     "start_time": "2023-12-01T16:43:09.565384800Z"
    }
   },
   "id": "313b0f1db1e2aa8f"
  },
  {
   "cell_type": "markdown",
   "source": [
    "4) Определить количество игроков в каждой возрастной группе"
   ],
   "metadata": {
    "collapsed": false
   },
   "id": "891b5cd654a34b6b"
  },
  {
   "cell_type": "code",
   "execution_count": 17,
   "outputs": [
    {
     "data": {
      "text/plain": "age_group\n19-24 years    1682\n24-30 years    1568\n0-18 years     1539\n30-36 years    1355\n36-45 years    1353\n45-55 years    1353\n55+ years      1187\nName: count, dtype: int64"
     },
     "execution_count": 17,
     "metadata": {},
     "output_type": "execute_result"
    }
   ],
   "source": [
    "df_final['age_group'].value_counts()"
   ],
   "metadata": {
    "collapsed": false,
    "ExecuteTime": {
     "end_time": "2023-12-01T16:43:09.874721500Z",
     "start_time": "2023-12-01T16:43:09.613316200Z"
    }
   },
   "id": "2fc360803c4a7bd8"
  },
  {
   "cell_type": "markdown",
   "source": [
    "5) Определить самую раннюю дату подписки на сервис"
   ],
   "metadata": {
    "collapsed": false
   },
   "id": "7136eed5e4392624"
  },
  {
   "cell_type": "code",
   "execution_count": 18,
   "outputs": [
    {
     "name": "stderr",
     "output_type": "stream",
     "text": [
      "C:\\Users\\ilya3\\AppData\\Local\\Temp\\ipykernel_2704\\2161244408.py:1: UserWarning: Could not infer format, so each element will be parsed individually, falling back to `dateutil`. To ensure parsing is consistent and as-expected, please specify a format.\n",
      "  df_final['date_served'] = pd.to_datetime(df_final['date_served'], errors='coerce')\n",
      "C:\\Users\\ilya3\\AppData\\Local\\Temp\\ipykernel_2704\\2161244408.py:2: UserWarning: Could not infer format, so each element will be parsed individually, falling back to `dateutil`. To ensure parsing is consistent and as-expected, please specify a format.\n",
      "  df_final['date_subscribed'] = pd.to_datetime(df_final['date_subscribed'], errors='coerce')\n",
      "C:\\Users\\ilya3\\AppData\\Local\\Temp\\ipykernel_2704\\2161244408.py:3: UserWarning: Could not infer format, so each element will be parsed individually, falling back to `dateutil`. To ensure parsing is consistent and as-expected, please specify a format.\n",
      "  df_final['date_canceled'] = pd.to_datetime(df_final['date_canceled'], errors='coerce')\n"
     ]
    }
   ],
   "source": [
    "df_final['date_served'] = pd.to_datetime(df_final['date_served'], errors='coerce')\n",
    "df_final['date_subscribed'] = pd.to_datetime(df_final['date_subscribed'], errors='coerce')\n",
    "df_final['date_canceled'] = pd.to_datetime(df_final['date_canceled'], errors='coerce')\n"
   ],
   "metadata": {
    "collapsed": false,
    "ExecuteTime": {
     "end_time": "2023-12-01T16:43:09.909723200Z",
     "start_time": "2023-12-01T16:43:09.623409300Z"
    }
   },
   "id": "3676c225b4273537"
  },
  {
   "cell_type": "code",
   "execution_count": 19,
   "outputs": [
    {
     "data": {
      "text/plain": "user_id\na1000   2018-01-01\nName: date_subscribed, dtype: datetime64[ns]"
     },
     "execution_count": 19,
     "metadata": {},
     "output_type": "execute_result"
    }
   ],
   "source": [
    "df_final['date_subscribed'].sort_values().head(1)"
   ],
   "metadata": {
    "collapsed": false,
    "ExecuteTime": {
     "end_time": "2023-12-01T16:43:09.910723900Z",
     "start_time": "2023-12-01T16:43:09.652535600Z"
    }
   },
   "id": "24865d532ba54ff7"
  },
  {
   "cell_type": "code",
   "execution_count": 31,
   "outputs": [
    {
     "data": {
      "text/plain": "user_id\na1790   2018-01-31\nName: date_subscribed, dtype: datetime64[ns]"
     },
     "execution_count": 31,
     "metadata": {},
     "output_type": "execute_result"
    }
   ],
   "source": [
    "df_final['date_subscribed'].sort_values(ascending=False).head(1)"
   ],
   "metadata": {
    "collapsed": false,
    "ExecuteTime": {
     "end_time": "2023-12-01T16:31:10.740760Z",
     "start_time": "2023-12-01T16:31:10.685071500Z"
    }
   },
   "id": "90457bd6e40af6de"
  },
  {
   "cell_type": "markdown",
   "source": [
    "6) Определить портрет аудитории удержанных подписчиков (по возрасту и языку)"
   ],
   "metadata": {
    "collapsed": false
   },
   "id": "c18db402be09975b"
  },
  {
   "cell_type": "code",
   "execution_count": 25,
   "outputs": [],
   "source": [
    "fix_df = df_final[df_final['is_retained'] == True]"
   ],
   "metadata": {
    "collapsed": false,
    "ExecuteTime": {
     "end_time": "2023-12-01T16:49:51.672853400Z",
     "start_time": "2023-12-01T16:49:51.591574Z"
    }
   },
   "id": "e9e373709e17eacb"
  },
  {
   "cell_type": "code",
   "execution_count": 26,
   "outputs": [
    {
     "data": {
      "text/plain": "age_group           0-18 years  19-24 years  24-30 years  30-36 years  \\\nlanguage_preferred                                                      \nArabic                      19           26           19           19   \nEnglish                   1421         1560         1442         1251   \nGerman                      31           29           35           16   \nSpanish                     68           67           72           69   \n\nage_group           36-45 years  45-55 years  55+ years  \nlanguage_preferred                                       \nArabic                       19           21         22  \nEnglish                    1260         1240       1101  \nGerman                       19           25         12  \nSpanish                      55           67         52  ",
      "text/html": "<div>\n<style scoped>\n    .dataframe tbody tr th:only-of-type {\n        vertical-align: middle;\n    }\n\n    .dataframe tbody tr th {\n        vertical-align: top;\n    }\n\n    .dataframe thead th {\n        text-align: right;\n    }\n</style>\n<table border=\"1\" class=\"dataframe\">\n  <thead>\n    <tr style=\"text-align: right;\">\n      <th>age_group</th>\n      <th>0-18 years</th>\n      <th>19-24 years</th>\n      <th>24-30 years</th>\n      <th>30-36 years</th>\n      <th>36-45 years</th>\n      <th>45-55 years</th>\n      <th>55+ years</th>\n    </tr>\n    <tr>\n      <th>language_preferred</th>\n      <th></th>\n      <th></th>\n      <th></th>\n      <th></th>\n      <th></th>\n      <th></th>\n      <th></th>\n    </tr>\n  </thead>\n  <tbody>\n    <tr>\n      <th>Arabic</th>\n      <td>19</td>\n      <td>26</td>\n      <td>19</td>\n      <td>19</td>\n      <td>19</td>\n      <td>21</td>\n      <td>22</td>\n    </tr>\n    <tr>\n      <th>English</th>\n      <td>1421</td>\n      <td>1560</td>\n      <td>1442</td>\n      <td>1251</td>\n      <td>1260</td>\n      <td>1240</td>\n      <td>1101</td>\n    </tr>\n    <tr>\n      <th>German</th>\n      <td>31</td>\n      <td>29</td>\n      <td>35</td>\n      <td>16</td>\n      <td>19</td>\n      <td>25</td>\n      <td>12</td>\n    </tr>\n    <tr>\n      <th>Spanish</th>\n      <td>68</td>\n      <td>67</td>\n      <td>72</td>\n      <td>69</td>\n      <td>55</td>\n      <td>67</td>\n      <td>52</td>\n    </tr>\n  </tbody>\n</table>\n</div>"
     },
     "execution_count": 26,
     "metadata": {},
     "output_type": "execute_result"
    }
   ],
   "source": [
    "pd.crosstab(\n",
    "    index=df_final['language_preferred'],\n",
    "    columns=df_final['age_group'], \n",
    ")"
   ],
   "metadata": {
    "collapsed": false,
    "ExecuteTime": {
     "end_time": "2023-12-01T16:50:15.172771900Z",
     "start_time": "2023-12-01T16:50:15.128922Z"
    }
   },
   "id": "510b37bf3d80736b"
  },
  {
   "cell_type": "code",
   "execution_count": null,
   "outputs": [],
   "source": [],
   "metadata": {
    "collapsed": false
   },
   "id": "33867d6854afd04c"
  }
 ],
 "metadata": {
  "kernelspec": {
   "display_name": "Python 3 (ipykernel)",
   "language": "python",
   "name": "python3"
  },
  "language_info": {
   "codemirror_mode": {
    "name": "ipython",
    "version": 3
   },
   "file_extension": ".py",
   "mimetype": "text/x-python",
   "name": "python",
   "nbconvert_exporter": "python",
   "pygments_lexer": "ipython3",
   "version": "3.11.6"
  }
 },
 "nbformat": 4,
 "nbformat_minor": 5
}
